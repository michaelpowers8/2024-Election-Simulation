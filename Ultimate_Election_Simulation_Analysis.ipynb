{
 "cells": [
  {
   "cell_type": "code",
   "execution_count": 1,
   "metadata": {},
   "outputs": [],
   "source": [
    "from pandas import DataFrame,read_csv,options,set_option\n",
    "import matplotlib.pyplot as plt"
   ]
  },
  {
   "cell_type": "code",
   "execution_count": 2,
   "metadata": {},
   "outputs": [],
   "source": [
    "options.display.float_format = '{:,.4f}'.format\n",
    "set_option('display.max_columns', None)"
   ]
  },
  {
   "cell_type": "code",
   "execution_count": 3,
   "metadata": {},
   "outputs": [],
   "source": [
    "def string_to_number(text:str) -> int:\n",
    "    text = text.replace(',','')\n",
    "    return int(text)"
   ]
  },
  {
   "cell_type": "code",
   "execution_count": 4,
   "metadata": {},
   "outputs": [],
   "source": [
    "elections_states:DataFrame = read_csv(\"C:/Users/michael/Documents/Election_Statistics/Simulation/States_Trump_Vs_Biden.csv\",index_col=0)\n",
    "elections_national:DataFrame = read_csv(\"C:/Users/michael/Documents/Election_Statistics/Simulation/National_Trump_Vs_Biden.csv\",index_col=0)\n",
    "elections_scores:DataFrame = read_csv(\"C:/Users/michael/Documents/Election_Statistics/Simulation/Summarized_Election_Scores.csv\",index_col=0)"
   ]
  },
  {
   "cell_type": "code",
   "execution_count": 5,
   "metadata": {},
   "outputs": [],
   "source": [
    "states:list = list(elections_states['State'].unique())"
   ]
  },
  {
   "cell_type": "code",
   "execution_count": 6,
   "metadata": {},
   "outputs": [],
   "source": [
    "elections_national:DataFrame = elections_national.reset_index(drop=True)"
   ]
  },
  {
   "cell_type": "code",
   "execution_count": 7,
   "metadata": {},
   "outputs": [],
   "source": [
    "elections_national['Trump_Polling_Error'] = elections_scores['Trump_Polling_Error']\n",
    "elections_national['Biden_Polling_Error'] = elections_scores['Biden_Polling_Error']\n",
    "elections_national['Polling_Error_Set'] = list(zip(elections_scores['Trump_Polling_Error'],elections_scores['Biden_Polling_Error']))\n",
    "elections_national['Polling_Error_Set'] = elections_national['Polling_Error_Set'].apply(lambda x: str(x))\n",
    "elections_national['Error_Set_Round_Number'] = elections_scores['Round_Number']"
   ]
  },
  {
   "cell_type": "code",
   "execution_count": 8,
   "metadata": {},
   "outputs": [
    {
     "data": {
      "text/html": [
       "<div>\n",
       "<style scoped>\n",
       "    .dataframe tbody tr th:only-of-type {\n",
       "        vertical-align: middle;\n",
       "    }\n",
       "\n",
       "    .dataframe tbody tr th {\n",
       "        vertical-align: top;\n",
       "    }\n",
       "\n",
       "    .dataframe thead th {\n",
       "        text-align: right;\n",
       "    }\n",
       "</style>\n",
       "<table border=\"1\" class=\"dataframe\">\n",
       "  <thead>\n",
       "    <tr style=\"text-align: right;\">\n",
       "      <th></th>\n",
       "      <th>Trump_Electoral_Votes</th>\n",
       "      <th>Biden_Electoral_Votes</th>\n",
       "      <th>Trump_Total_Votes</th>\n",
       "      <th>Biden_Total_Votes</th>\n",
       "      <th>Trump_Vote_Percent</th>\n",
       "      <th>Biden_Vote_Percent</th>\n",
       "      <th>Trump_Polling_Error</th>\n",
       "      <th>Biden_Polling_Error</th>\n",
       "      <th>Error_Set_Round_Number</th>\n",
       "    </tr>\n",
       "  </thead>\n",
       "  <tbody>\n",
       "    <tr>\n",
       "      <th>count</th>\n",
       "      <td>201.0000</td>\n",
       "      <td>201.0000</td>\n",
       "      <td>201.0000</td>\n",
       "      <td>201.0000</td>\n",
       "      <td>201.0000</td>\n",
       "      <td>201.0000</td>\n",
       "      <td>201.0000</td>\n",
       "      <td>201.0000</td>\n",
       "      <td>201.0000</td>\n",
       "    </tr>\n",
       "    <tr>\n",
       "      <th>mean</th>\n",
       "      <td>263.0398</td>\n",
       "      <td>274.9602</td>\n",
       "      <td>60,272,733.0050</td>\n",
       "      <td>63,902,396.6418</td>\n",
       "      <td>46.6584</td>\n",
       "      <td>49.4682</td>\n",
       "      <td>-3.3433</td>\n",
       "      <td>-0.3582</td>\n",
       "      <td>5.4776</td>\n",
       "    </tr>\n",
       "    <tr>\n",
       "      <th>std</th>\n",
       "      <td>63.8004</td>\n",
       "      <td>63.8004</td>\n",
       "      <td>2,061,783.9791</td>\n",
       "      <td>2,182,460.5301</td>\n",
       "      <td>1.5965</td>\n",
       "      <td>1.6891</td>\n",
       "      <td>0.6607</td>\n",
       "      <td>2.6723</td>\n",
       "      <td>2.8898</td>\n",
       "    </tr>\n",
       "    <tr>\n",
       "      <th>min</th>\n",
       "      <td>132.0000</td>\n",
       "      <td>181.0000</td>\n",
       "      <td>56,799,172.0000</td>\n",
       "      <td>60,118,056.0000</td>\n",
       "      <td>43.9680</td>\n",
       "      <td>46.5420</td>\n",
       "      <td>-4.0000</td>\n",
       "      <td>-4.0000</td>\n",
       "      <td>1.0000</td>\n",
       "    </tr>\n",
       "    <tr>\n",
       "      <th>25%</th>\n",
       "      <td>251.0000</td>\n",
       "      <td>233.0000</td>\n",
       "      <td>58,753,068.0000</td>\n",
       "      <td>61,730,853.0000</td>\n",
       "      <td>45.4830</td>\n",
       "      <td>47.7860</td>\n",
       "      <td>-4.0000</td>\n",
       "      <td>-3.0000</td>\n",
       "      <td>3.0000</td>\n",
       "    </tr>\n",
       "    <tr>\n",
       "      <th>50%</th>\n",
       "      <td>268.0000</td>\n",
       "      <td>270.0000</td>\n",
       "      <td>60,231,126.0000</td>\n",
       "      <td>63,975,092.0000</td>\n",
       "      <td>46.6280</td>\n",
       "      <td>49.5240</td>\n",
       "      <td>-3.0000</td>\n",
       "      <td>-1.0000</td>\n",
       "      <td>5.0000</td>\n",
       "    </tr>\n",
       "    <tr>\n",
       "      <th>75%</th>\n",
       "      <td>305.0000</td>\n",
       "      <td>287.0000</td>\n",
       "      <td>62,334,291.0000</td>\n",
       "      <td>65,462,556.0000</td>\n",
       "      <td>48.2570</td>\n",
       "      <td>50.6740</td>\n",
       "      <td>-3.0000</td>\n",
       "      <td>2.0000</td>\n",
       "      <td>8.0000</td>\n",
       "    </tr>\n",
       "    <tr>\n",
       "      <th>max</th>\n",
       "      <td>357.0000</td>\n",
       "      <td>406.0000</td>\n",
       "      <td>63,927,834.0000</td>\n",
       "      <td>67,579,735.0000</td>\n",
       "      <td>49.4910</td>\n",
       "      <td>52.3100</td>\n",
       "      <td>-2.0000</td>\n",
       "      <td>4.0000</td>\n",
       "      <td>10.0000</td>\n",
       "    </tr>\n",
       "  </tbody>\n",
       "</table>\n",
       "</div>"
      ],
      "text/plain": [
       "       Trump_Electoral_Votes  Biden_Electoral_Votes  Trump_Total_Votes  \\\n",
       "count               201.0000               201.0000           201.0000   \n",
       "mean                263.0398               274.9602    60,272,733.0050   \n",
       "std                  63.8004                63.8004     2,061,783.9791   \n",
       "min                 132.0000               181.0000    56,799,172.0000   \n",
       "25%                 251.0000               233.0000    58,753,068.0000   \n",
       "50%                 268.0000               270.0000    60,231,126.0000   \n",
       "75%                 305.0000               287.0000    62,334,291.0000   \n",
       "max                 357.0000               406.0000    63,927,834.0000   \n",
       "\n",
       "       Biden_Total_Votes  Trump_Vote_Percent  Biden_Vote_Percent  \\\n",
       "count           201.0000            201.0000            201.0000   \n",
       "mean     63,902,396.6418             46.6584             49.4682   \n",
       "std       2,182,460.5301              1.5965              1.6891   \n",
       "min      60,118,056.0000             43.9680             46.5420   \n",
       "25%      61,730,853.0000             45.4830             47.7860   \n",
       "50%      63,975,092.0000             46.6280             49.5240   \n",
       "75%      65,462,556.0000             48.2570             50.6740   \n",
       "max      67,579,735.0000             49.4910             52.3100   \n",
       "\n",
       "       Trump_Polling_Error  Biden_Polling_Error  Error_Set_Round_Number  \n",
       "count             201.0000             201.0000                201.0000  \n",
       "mean               -3.3433              -0.3582                  5.4776  \n",
       "std                 0.6607               2.6723                  2.8898  \n",
       "min                -4.0000              -4.0000                  1.0000  \n",
       "25%                -4.0000              -3.0000                  3.0000  \n",
       "50%                -3.0000              -1.0000                  5.0000  \n",
       "75%                -3.0000               2.0000                  8.0000  \n",
       "max                -2.0000               4.0000                 10.0000  "
      ]
     },
     "execution_count": 8,
     "metadata": {},
     "output_type": "execute_result"
    }
   ],
   "source": [
    "elections_national.describe()"
   ]
  },
  {
   "cell_type": "code",
   "execution_count": 9,
   "metadata": {},
   "outputs": [],
   "source": [
    "elections_states.groupby('State').describe()['Trump_Vote_Count'].to_csv(\"C:/Users/michael/Documents/Election_Statistics/Simulation/Analysis/National/Trump_Vote_Count_Statistics.csv\")\n",
    "elections_states.groupby('State').describe()['Biden_Vote_Count'].to_csv(\"C:/Users/michael/Documents/Election_Statistics/Simulation/Analysis/National/Biden_Vote_Count_Statistics.csv\")\n",
    "elections_states.groupby('State').describe()['Trump_Vote_Percent'].to_csv(\"C:/Users/michael/Documents/Election_Statistics/Simulation/Analysis/National/Trump_Vote_Percent_Statistics.csv\")\n",
    "elections_states.groupby('State').describe()['Biden_Vote_Percent'].to_csv(\"C:/Users/michael/Documents/Election_Statistics/Simulation/Analysis/National/Biden_Vote_Percent_Statistics.csv\")"
   ]
  },
  {
   "cell_type": "code",
   "execution_count": 10,
   "metadata": {},
   "outputs": [],
   "source": [
    "for state in states:\n",
    "    state_results_with_polling_error:DataFrame = elections_states[elections_states['State']==state].reset_index(drop=True)\n",
    "    state_results_with_polling_error['Trump_Polling_Error'] = elections_national['Trump_Polling_Error']\n",
    "    state_results_with_polling_error['Biden_Polling_Error'] = elections_national['Biden_Polling_Error']\n",
    "    state_results_with_polling_error.to_csv(f\"C:/Users/michael/Documents/Election_Statistics/Simulation/Analysis/States/{state}_Results_All_Elections.csv\",index=False)"
   ]
  },
  {
   "cell_type": "code",
   "execution_count": 17,
   "metadata": {},
   "outputs": [],
   "source": [
    "winners = elections_states.groupby('State')['Winner'].describe()"
   ]
  },
  {
   "cell_type": "code",
   "execution_count": 18,
   "metadata": {},
   "outputs": [],
   "source": [
    "winners[(winners['freq']<=(winners['count']*0.8))].to_csv(\"C:/Users/michael/Documents/Election_Statistics/Simulation/Analysis/National/Battleground_States.csv\")"
   ]
  },
  {
   "cell_type": "code",
   "execution_count": 19,
   "metadata": {},
   "outputs": [],
   "source": [
    "winners[(winners['freq']==(winners['count']))&\n",
    "        (winners['top']=='Trump')].to_csv(\"C:/Users/michael/Documents/Election_Statistics/Simulation/Analysis/National/Safe_Red_States.csv\")"
   ]
  },
  {
   "cell_type": "code",
   "execution_count": 20,
   "metadata": {},
   "outputs": [],
   "source": [
    "winners[(winners['freq']==(winners['count']))&\n",
    "        (winners['top']=='Biden')].to_csv(\"C:/Users/michael/Documents/Election_Statistics/Simulation/Analysis/National/Safe_Blue_States.csv\")"
   ]
  },
  {
   "cell_type": "code",
   "execution_count": 21,
   "metadata": {},
   "outputs": [],
   "source": [
    "elections_national.to_csv('Nationwide_Simulated_Election_Results.csv',index=False)"
   ]
  },
  {
   "cell_type": "code",
   "execution_count": 24,
   "metadata": {},
   "outputs": [
    {
     "name": "stderr",
     "output_type": "stream",
     "text": [
      "No artists with labels found to put in legend.  Note that artists whose label start with an underscore are ignored when legend() is called with no argument.\n"
     ]
    },
    {
     "data": {
      "image/png": "[encoded data removed]",
      "text/plain": [
       "<Figure size 1500x600 with 1 Axes>"
      ]
     },
     "metadata": {},
     "output_type": "display_data"
    }
   ],
   "source": [
    "plt.figure(figsize=(15, 6))\n",
    "plt.scatter(elections_national['Polling_Error_Set'], elections_national['Trump_Electoral_Votes'],c='red',linewidths=2)\n",
    "plt.axhline(270,linewidth=1)\n",
    "for x in range(21):\n",
    "    plt.axvline(x+0.01,linewidth=1)\n",
    "plt.xlabel('Polling Error (Trump_Error, Biden_Error)')\n",
    "plt.ylabel('Trump_Electoral_Votes')\n",
    "plt.title('Trump Electoral Votes Vs Polling Errors')\n",
    "plt.legend(title='Polling Error', bbox_to_anchor=(1.05, 1), loc='upper left')\n",
    "plt.xticks(rotation=45, ha='right')\n",
    "plt.tight_layout()\n",
    "plt.yticks([150,200,250,270,300,350,400])\n",
    "plt.show()"
   ]
  }
 ],
 "metadata": {
  "kernelspec": {
   "display_name": "Python 3",
   "language": "python",
   "name": "python3"
  },
  "language_info": {
   "codemirror_mode": {
    "name": "ipython",
    "version": 3
   },
   "file_extension": ".py",
   "mimetype": "text/x-python",
   "name": "python",
   "nbconvert_exporter": "python",
   "pygments_lexer": "ipython3",
   "version": "3.11.6"
  }
 },
 "nbformat": 4,
 "nbformat_minor": 2
}
