{
 "cells": [
  {
   "cell_type": "code",
   "execution_count": 36,
   "metadata": {},
   "outputs": [],
   "source": [
    "from pandas import DataFrame,read_csv,options,set_option\n",
    "import matplotlib.pyplot as plt"
   ]
  },
  {
   "cell_type": "code",
   "execution_count": 37,
   "metadata": {},
   "outputs": [],
   "source": [
    "options.display.float_format = '{:,.4f}'.format\n",
    "set_option('display.max_columns', None)"
   ]
  },
  {
   "cell_type": "code",
   "execution_count": 38,
   "metadata": {},
   "outputs": [],
   "source": [
    "def string_to_number(text:str) -> int:\n",
    "    text = text.replace(',','')\n",
    "    return int(text)"
   ]
  },
  {
   "cell_type": "code",
   "execution_count": 39,
   "metadata": {},
   "outputs": [],
   "source": [
    "elections_states:DataFrame = read_csv(\"C:/Users/michael/Documents/Election_Statistics/Simulation/States_Trump_Vs_Biden.csv\",index_col=0)\n",
    "elections_national:DataFrame = read_csv(\"C:/Users/michael/Documents/Election_Statistics/Simulation/National_Trump_Vs_Biden.csv\",index_col=0)\n",
    "elections_scores:DataFrame = read_csv(\"C:/Users/michael/Documents/Election_Statistics/Simulation/Summarized_Election_Scores.csv\",index_col=0)"
   ]
  },
  {
   "cell_type": "code",
   "execution_count": 40,
   "metadata": {},
   "outputs": [],
   "source": [
    "states:list = list(elections_states['State'].unique())"
   ]
  },
  {
   "cell_type": "code",
   "execution_count": 41,
   "metadata": {},
   "outputs": [],
   "source": [
    "elections_national:DataFrame = elections_national.reset_index(drop=True)"
   ]
  },
  {
   "cell_type": "code",
   "execution_count": 42,
   "metadata": {},
   "outputs": [],
   "source": [
    "elections_national['Trump_Polling_Error'] = elections_scores['Trump_Polling_Error']\n",
    "elections_national['Biden_Polling_Error'] = elections_scores['Biden_Polling_Error']\n",
    "elections_national['Polling_Error_Set'] = list(zip(elections_scores['Trump_Polling_Error'],elections_scores['Biden_Polling_Error']))\n",
    "elections_national['Polling_Error_Set'] = elections_national['Polling_Error_Set'].apply(lambda x: str(x))\n",
    "elections_national['Error_Set_Round_Number'] = elections_scores['Round_Number']"
   ]
  },
  {
   "cell_type": "code",
   "execution_count": 43,
   "metadata": {},
   "outputs": [
    {
     "data": {
      "text/html": [
       "<div>\n",
       "<style scoped>\n",
       "    .dataframe tbody tr th:only-of-type {\n",
       "        vertical-align: middle;\n",
       "    }\n",
       "\n",
       "    .dataframe tbody tr th {\n",
       "        vertical-align: top;\n",
       "    }\n",
       "\n",
       "    .dataframe thead th {\n",
       "        text-align: right;\n",
       "    }\n",
       "</style>\n",
       "<table border=\"1\" class=\"dataframe\">\n",
       "  <thead>\n",
       "    <tr style=\"text-align: right;\">\n",
       "      <th></th>\n",
       "      <th>Trump_Electoral_Votes</th>\n",
       "      <th>Biden_Electoral_Votes</th>\n",
       "      <th>Trump_Total_Votes</th>\n",
       "      <th>Biden_Total_Votes</th>\n",
       "      <th>Trump_Vote_Percent</th>\n",
       "      <th>Biden_Vote_Percent</th>\n",
       "      <th>Trump_Polling_Error</th>\n",
       "      <th>Biden_Polling_Error</th>\n",
       "      <th>Error_Set_Round_Number</th>\n",
       "    </tr>\n",
       "  </thead>\n",
       "  <tbody>\n",
       "    <tr>\n",
       "      <th>count</th>\n",
       "      <td>810.0000</td>\n",
       "      <td>810.0000</td>\n",
       "      <td>810.0000</td>\n",
       "      <td>810.0000</td>\n",
       "      <td>810.0000</td>\n",
       "      <td>810.0000</td>\n",
       "      <td>810.0000</td>\n",
       "      <td>810.0000</td>\n",
       "      <td>810.0000</td>\n",
       "    </tr>\n",
       "    <tr>\n",
       "      <th>mean</th>\n",
       "      <td>308.5173</td>\n",
       "      <td>229.4827</td>\n",
       "      <td>62,521,250.2988</td>\n",
       "      <td>61,839,549.3605</td>\n",
       "      <td>48.3984</td>\n",
       "      <td>47.8707</td>\n",
       "      <td>0.0000</td>\n",
       "      <td>0.0000</td>\n",
       "      <td>5.5000</td>\n",
       "    </tr>\n",
       "    <tr>\n",
       "      <th>std</th>\n",
       "      <td>52.5517</td>\n",
       "      <td>52.5517</td>\n",
       "      <td>2,614,078.5661</td>\n",
       "      <td>2,614,882.4843</td>\n",
       "      <td>2.0236</td>\n",
       "      <td>2.0242</td>\n",
       "      <td>2.5836</td>\n",
       "      <td>2.5836</td>\n",
       "      <td>2.8741</td>\n",
       "    </tr>\n",
       "    <tr>\n",
       "      <th>min</th>\n",
       "      <td>132.0000</td>\n",
       "      <td>144.0000</td>\n",
       "      <td>56,799,172.0000</td>\n",
       "      <td>56,116,304.0000</td>\n",
       "      <td>43.9680</td>\n",
       "      <td>43.4440</td>\n",
       "      <td>-4.0000</td>\n",
       "      <td>-4.0000</td>\n",
       "      <td>1.0000</td>\n",
       "    </tr>\n",
       "    <tr>\n",
       "      <th>25%</th>\n",
       "      <td>287.0000</td>\n",
       "      <td>181.0000</td>\n",
       "      <td>60,592,219.7500</td>\n",
       "      <td>59,943,052.5000</td>\n",
       "      <td>46.9053</td>\n",
       "      <td>46.4030</td>\n",
       "      <td>-2.0000</td>\n",
       "      <td>-2.0000</td>\n",
       "      <td>3.0000</td>\n",
       "    </tr>\n",
       "    <tr>\n",
       "      <th>50%</th>\n",
       "      <td>320.0000</td>\n",
       "      <td>218.0000</td>\n",
       "      <td>62,520,787.5000</td>\n",
       "      <td>61,843,089.5000</td>\n",
       "      <td>48.3990</td>\n",
       "      <td>47.8750</td>\n",
       "      <td>0.0000</td>\n",
       "      <td>0.0000</td>\n",
       "      <td>5.5000</td>\n",
       "    </tr>\n",
       "    <tr>\n",
       "      <th>75%</th>\n",
       "      <td>357.0000</td>\n",
       "      <td>251.0000</td>\n",
       "      <td>64,654,370.7500</td>\n",
       "      <td>63,971,566.2500</td>\n",
       "      <td>50.0490</td>\n",
       "      <td>49.5207</td>\n",
       "      <td>2.0000</td>\n",
       "      <td>2.0000</td>\n",
       "      <td>8.0000</td>\n",
       "    </tr>\n",
       "    <tr>\n",
       "      <th>max</th>\n",
       "      <td>394.0000</td>\n",
       "      <td>406.0000</td>\n",
       "      <td>68,247,515.0000</td>\n",
       "      <td>67,579,735.0000</td>\n",
       "      <td>52.8320</td>\n",
       "      <td>52.3100</td>\n",
       "      <td>4.0000</td>\n",
       "      <td>4.0000</td>\n",
       "      <td>10.0000</td>\n",
       "    </tr>\n",
       "  </tbody>\n",
       "</table>\n",
       "</div>"
      ],
      "text/plain": [
       "       Trump_Electoral_Votes  Biden_Electoral_Votes  Trump_Total_Votes  \\\n",
       "count               810.0000               810.0000           810.0000   \n",
       "mean                308.5173               229.4827    62,521,250.2988   \n",
       "std                  52.5517                52.5517     2,614,078.5661   \n",
       "min                 132.0000               144.0000    56,799,172.0000   \n",
       "25%                 287.0000               181.0000    60,592,219.7500   \n",
       "50%                 320.0000               218.0000    62,520,787.5000   \n",
       "75%                 357.0000               251.0000    64,654,370.7500   \n",
       "max                 394.0000               406.0000    68,247,515.0000   \n",
       "\n",
       "       Biden_Total_Votes  Trump_Vote_Percent  Biden_Vote_Percent  \\\n",
       "count           810.0000            810.0000            810.0000   \n",
       "mean     61,839,549.3605             48.3984             47.8707   \n",
       "std       2,614,882.4843              2.0236              2.0242   \n",
       "min      56,116,304.0000             43.9680             43.4440   \n",
       "25%      59,943,052.5000             46.9053             46.4030   \n",
       "50%      61,843,089.5000             48.3990             47.8750   \n",
       "75%      63,971,566.2500             50.0490             49.5207   \n",
       "max      67,579,735.0000             52.8320             52.3100   \n",
       "\n",
       "       Trump_Polling_Error  Biden_Polling_Error  Error_Set_Round_Number  \n",
       "count             810.0000             810.0000                810.0000  \n",
       "mean                0.0000               0.0000                  5.5000  \n",
       "std                 2.5836               2.5836                  2.8741  \n",
       "min                -4.0000              -4.0000                  1.0000  \n",
       "25%                -2.0000              -2.0000                  3.0000  \n",
       "50%                 0.0000               0.0000                  5.5000  \n",
       "75%                 2.0000               2.0000                  8.0000  \n",
       "max                 4.0000               4.0000                 10.0000  "
      ]
     },
     "execution_count": 43,
     "metadata": {},
     "output_type": "execute_result"
    }
   ],
   "source": [
    "elections_national.describe()"
   ]
  },
  {
   "cell_type": "code",
   "execution_count": 44,
   "metadata": {},
   "outputs": [],
   "source": [
    "elections_states.groupby('State').describe()['Trump_Vote_Count'].to_csv(\"C:/Users/michael/Documents/Election_Statistics/Simulation/Analysis/National/Trump_Vote_Count_Statistics.csv\")\n",
    "elections_states.groupby('State').describe()['Biden_Vote_Count'].to_csv(\"C:/Users/michael/Documents/Election_Statistics/Simulation/Analysis/National/Biden_Vote_Count_Statistics.csv\")\n",
    "elections_states.groupby('State').describe()['Trump_Vote_Percent'].to_csv(\"C:/Users/michael/Documents/Election_Statistics/Simulation/Analysis/National/Trump_Vote_Percent_Statistics.csv\")\n",
    "elections_states.groupby('State').describe()['Biden_Vote_Percent'].to_csv(\"C:/Users/michael/Documents/Election_Statistics/Simulation/Analysis/National/Biden_Vote_Percent_Statistics.csv\")"
   ]
  },
  {
   "cell_type": "code",
   "execution_count": 45,
   "metadata": {},
   "outputs": [],
   "source": [
    "for state in states:\n",
    "    state_results_with_polling_error:DataFrame = elections_states[elections_states['State']==state].reset_index(drop=True)\n",
    "    state_results_with_polling_error['Trump_Polling_Error'] = elections_national['Trump_Polling_Error']\n",
    "    state_results_with_polling_error['Biden_Polling_Error'] = elections_national['Biden_Polling_Error']\n",
    "    state_results_with_polling_error.to_csv(f\"C:/Users/michael/Documents/Election_Statistics/Simulation/Analysis/States/{state}_Results_All_Elections.csv\",index=False)"
   ]
  },
  {
   "cell_type": "code",
   "execution_count": 46,
   "metadata": {},
   "outputs": [],
   "source": [
    "winners = elections_states.groupby('State')['Winner'].describe()"
   ]
  },
  {
   "cell_type": "code",
   "execution_count": 47,
   "metadata": {},
   "outputs": [],
   "source": [
    "winners[(winners['freq']<=(winners['count']*0.8))].to_csv(\"C:/Users/michael/Documents/Election_Statistics/Simulation/Analysis/National/Battleground_States.csv\")"
   ]
  },
  {
   "cell_type": "code",
   "execution_count": 48,
   "metadata": {},
   "outputs": [],
   "source": [
    "winners[(winners['freq']==(winners['count']))&\n",
    "        (winners['top']=='Trump')].to_csv(\"C:/Users/michael/Documents/Election_Statistics/Simulation/Analysis/National/Safe_Red_States.csv\")"
   ]
  },
  {
   "cell_type": "code",
   "execution_count": 49,
   "metadata": {},
   "outputs": [],
   "source": [
    "winners[(winners['freq']==(winners['count']))&\n",
    "        (winners['top']=='Biden')].to_csv(\"C:/Users/michael/Documents/Election_Statistics/Simulation/Analysis/National/Safe_Blue_States.csv\")"
   ]
  },
  {
   "cell_type": "code",
   "execution_count": 50,
   "metadata": {},
   "outputs": [],
   "source": [
    "elections_national.to_csv('Nationwide_Simulated_Election_Results.csv',index=False)"
   ]
  },
  {
   "cell_type": "code",
   "execution_count": 61,
   "metadata": {},
   "outputs": [],
   "source": [
    "plt.figure(figsize=(32, 10))\n",
    "plt.scatter(elections_national['Polling_Error_Set'], elections_national['Trump_Electoral_Votes'],c='red',linewidths=1,s=20)\n",
    "plt.axhline(270,linewidth=1)\n",
    "for x in range(81):\n",
    "    plt.axvline(x+0.01,linewidth=1)\n",
    "plt.xlabel('Polling Error (Trump_Error, Biden_Error)')\n",
    "plt.ylabel('Trump_Electoral_Votes')\n",
    "plt.title('Trump Electoral Votes Vs Polling Errors')\n",
    "plt.legend(title='Polling Error', bbox_to_anchor=(1.05, 1), loc='upper left')\n",
    "plt.xticks(rotation=90, ha='right')\n",
    "plt.tight_layout()\n",
    "plt.yticks([150,200,250,270,300,350,400])\n",
    "plt.show()"
   ]
  }
 ],
 "metadata": {
  "kernelspec": {
   "display_name": "Python 3",
   "language": "python",
   "name": "python3"
  },
  "language_info": {
   "codemirror_mode": {
    "name": "ipython",
    "version": 3
   },
   "file_extension": ".py",
   "mimetype": "text/x-python",
   "name": "python",
   "nbconvert_exporter": "python",
   "pygments_lexer": "ipython3",
   "version": "3.11.6"
  }
 },
 "nbformat": 4,
 "nbformat_minor": 2
}
